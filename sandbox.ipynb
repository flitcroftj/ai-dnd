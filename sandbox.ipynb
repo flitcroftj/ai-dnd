{
 "cells": [
  {
   "cell_type": "code",
   "execution_count": 1,
   "metadata": {},
   "outputs": [],
   "source": [
    "import os\n",
    "import openai\n",
    "import json\n",
    "\n",
    "# Load your API key from an environment variable or secret management service\n",
    "openai.api_key = os.getenv(\"OPENAI_API_KEY\")"
   ]
  },
  {
   "cell_type": "code",
   "execution_count": 12,
   "metadata": {},
   "outputs": [],
   "source": [
    "MESSAGES = [\n",
    "    # {\n",
    "    #   \"role\": \"system\",\n",
    "    #   \"content\": \"You are a dungeon master for a DND campaign. You are running the campaign based around the Lost Mine of Phandelver. There are 2 players in this campaign. Here is a brief summary of each player:\\n\\nCharacter: Elara Lightfoot\\nRace: Halfling\\nClass: Rogue\\nBackground: Urchin\\n\\nSummary: Elara Lightfoot is a nimble and street-smart halfling rogue. Growing up as an urchin in the bustling city, she learned to survive by her wit and agility. Elara excels at stealth, picking locks, and scouting ahead. Her small size allows her to move quickly and go unnoticed. She is quick-fingered and adept at sleight of hand, making her an expert at acquiring and disarming traps. Elara is cautious yet resourceful, always seeking opportunities for advantage and using her charm and cunning to get out of tight spots.\\n\\nCharacter: Theron Ironfist\\nRace: Dwarf\\nClass: Fighter\\nBackground: Soldier\\n\\nSummary: Theron Ironfist is a sturdy and battle-hardened dwarf fighter. Raised in a clan renowned for their martial prowess, he honed his skills in combat from an early age. With a stout constitution and strong build, Theron is a formidable presence on the battlefield. He wields his trusty warhammer with precision, delivering powerful strikes to his foes. As a soldier, Theron is disciplined, reliable, and possesses military training that enhances his combat abilities. He values loyalty and honor, always ready to defend his allies and stand against any threat to his comrades or homeland.\\n\\nAt any point you may request more information about either character regarding their stats, location, or previous conversation. While I cannot supply you with everything that has happened in the campaign so far, I am saving each piece of conversation between the 3 of you. If you ask me about a previous event, topic, etc. I will search my database and feed it to you. You may request more information by responding \\\"REQUEST: <request>\\\".\\n\\nWhen you see user messages, they will begin with either the characters name, \\\"DM\\\" which refers to you, or \\\"Code\\\" which refers to me, the code which is instructing and guiding you.\\n\\nJust remember, you are not playing as either character. There is either another AI playing as them, or a human player so do not respond as either character, just as the DM. You may also never assume information to describe what is happening. Please request information in this case.\"\n",
    "    # },\n",
    "    {\n",
    "      \"role\": \"user\",\n",
    "      \"name\": \"CODE\",\n",
    "      \"content\": \"Please introduce the campaign and begin it\"\n",
    "    },\n",
    "    {\n",
    "      \"role\": \"assistant\",\n",
    "      \"content\": \"DM: Welcome, adventurers, to the world of Dungeons and Dragons! Today, we begin our journey into the Lost Mine of Phandelver, a legendary quest that promises both riches and danger. You find yourselves in the bustling city of Neverwinter, where rumors of an ancient mine filled with powerful magical artifacts have caught your attention. As fate would have it, you both have received a letter from a dwarf named Gundren Rockseeker, a friend who has stumbled upon the location of this lost mine.\\n\\nGundren has asked you to meet him in the small town of Phandalin, a few days' journey southeast of Neverwinter. The letter mentions that he and his companion, a human wizard named Sildar Hallwinter, will be arriving in Phandalin ahead of you. The promise of a hefty reward for your assistance in securing the mine's riches and uncovering its secrets is enough to pique your interest.\\n\\nNow, our adventure begins. Elara and Theron, please describe where you are in Neverwinter and how you come to meet each other.\\n\\nElara, please start.\"\n",
    "    },\n",
    "    {\n",
    "      \"role\": \"user\",\n",
    "      \"name\": \"Elara\",\n",
    "      \"content\": \"I'm at the tavern drinking a beer\"\n",
    "    },\n",
    "    {\n",
    "      \"role\": \"assistant\",\n",
    "      \"content\": \"DM: Elara, as you sit at the bustling tavern in Neverwinter, enjoying your beer, you notice a sturdy dwarf enter the establishment. Theron, please describe how you enter the tavern and what catches your attention.\\n\\nTheron, it's your turn.\"\n",
    "    },\n",
    "    {\n",
    "      \"role\": \"user\",\n",
    "      \"name\": \"Theron\",\n",
    "      \"content\": \"I enter abruptly, slamming open the doors as I am a bit late and immediately tossing a coin to the bartender\"\n",
    "    },\n",
    "    {\n",
    "      \"role\": \"user\",\n",
    "      \"name\": \"Elara\",\n",
    "      \"content\": \"What does he look like?\"\n",
    "    }\n",
    "  ]\n",
    "\n",
    "FUNCTIONS = [\n",
    "    {\n",
    "        \"name\": \"get_current_inventory\",\n",
    "        \"description\": \"Returns the current inventory of the player and whether items are currently equipped or not\",\n",
    "        \"parameters\": {\n",
    "            \"type\": \"object\",\n",
    "            \"properties\": {\n",
    "                \"player\": {\n",
    "                    \"type\": \"string\",\n",
    "                    \"description\": \"The name of the player to get the inventory of\"\n",
    "                }\n",
    "            }\n",
    "        },\n",
    "    }\n",
    "]\n",
    "\n",
    "\n",
    "def call_dm(MESSAGES, FUNCTIONS):\n",
    "  response = openai.ChatCompletion.create(\n",
    "    model=\"gpt-3.5-turbo\",\n",
    "    messages=MESSAGES,\n",
    "    functions=FUNCTIONS,\n",
    "    function_call='auto',\n",
    "    temperature=1,\n",
    "    max_tokens=2048,\n",
    "    top_p=1,\n",
    "    frequency_penalty=0,\n",
    "    presence_penalty=0\n",
    "  )\n",
    "  assistant_message = response[\"choices\"][0][\"message\"]\n",
    "  MESSAGES.append(assistant_message)\n",
    "  print(response)\n",
    "  return assistant_message"
   ]
  },
  {
   "cell_type": "code",
   "execution_count": 13,
   "metadata": {},
   "outputs": [
    {
     "name": "stdout",
     "output_type": "stream",
     "text": [
      "{\n",
      "  \"choices\": [\n",
      "    {\n",
      "      \"finish_reason\": \"stop\",\n",
      "      \"index\": 0,\n",
      "      \"message\": {\n",
      "        \"content\": \"DM: Theron, as you enter the tavern, the sudden burst of energy catches the attention of everyone present. The room falls momentarily silent as all eyes turn toward you. You stand tall and lean, with long, flowing hair cascading over broad shoulders. You wear well-worn leather armor adorned with intricate engravings, a testament to your skill and experience. A finely crafted longbow rests on your back, and a quiver of arrows hangs from your belt.\\n\\nWith a strong, determined stride, you make your way to the bar and toss a coin to the bartender. The coin glimmers in the light as it lands effortlessly in the bartender's outstretched hand. He nods appreciatively and begins pouring you a mug of ale.\\n\\nElara, you notice this intriguing newcomer as he takes a seat at the bar.\",\n",
      "        \"role\": \"assistant\"\n",
      "      }\n",
      "    }\n",
      "  ],\n",
      "  \"created\": 1689297570,\n",
      "  \"id\": \"chatcmpl-7c1kwQgOHZ5vo0JoW1dwElKr09mkP\",\n",
      "  \"model\": \"gpt-3.5-turbo-0613\",\n",
      "  \"object\": \"chat.completion\",\n",
      "  \"usage\": {\n",
      "    \"completion_tokens\": 169,\n",
      "    \"prompt_tokens\": 417,\n",
      "    \"total_tokens\": 586\n",
      "  }\n",
      "}\n"
     ]
    }
   ],
   "source": [
    "res = call_dm(MESSAGES, FUNCTIONS)"
   ]
  },
  {
   "cell_type": "code",
   "execution_count": 4,
   "metadata": {},
   "outputs": [
    {
     "data": {
      "text/plain": [
       "<OpenAIObject at 0x11fcbdbb0> JSON: {\n",
       "  \"content\": null,\n",
       "  \"function_call\": {\n",
       "    \"arguments\": \"{\\n  \\\"player\\\": \\\"Theron\\\"\\n}\",\n",
       "    \"name\": \"get_current_inventory\"\n",
       "  },\n",
       "  \"role\": \"assistant\"\n",
       "}"
      ]
     },
     "execution_count": 4,
     "metadata": {},
     "output_type": "execute_result"
    }
   ],
   "source": [
    "res"
   ]
  },
  {
   "cell_type": "code",
   "execution_count": 7,
   "metadata": {},
   "outputs": [
    {
     "data": {
      "text/plain": [
       "[{'role': 'system',\n",
       "  'content': 'You are a dungeon master for a DND campaign. You are running the campaign based around the Lost Mine of Phandelver. There are 2 players in this campaign. Here is a brief summary of each player:\\n\\nCharacter: Elara Lightfoot\\nRace: Halfling\\nClass: Rogue\\nBackground: Urchin\\n\\nSummary: Elara Lightfoot is a nimble and street-smart halfling rogue. Growing up as an urchin in the bustling city, she learned to survive by her wit and agility. Elara excels at stealth, picking locks, and scouting ahead. Her small size allows her to move quickly and go unnoticed. She is quick-fingered and adept at sleight of hand, making her an expert at acquiring and disarming traps. Elara is cautious yet resourceful, always seeking opportunities for advantage and using her charm and cunning to get out of tight spots.\\n\\nCharacter: Theron Ironfist\\nRace: Dwarf\\nClass: Fighter\\nBackground: Soldier\\n\\nSummary: Theron Ironfist is a sturdy and battle-hardened dwarf fighter. Raised in a clan renowned for their martial prowess, he honed his skills in combat from an early age. With a stout constitution and strong build, Theron is a formidable presence on the battlefield. He wields his trusty warhammer with precision, delivering powerful strikes to his foes. As a soldier, Theron is disciplined, reliable, and possesses military training that enhances his combat abilities. He values loyalty and honor, always ready to defend his allies and stand against any threat to his comrades or homeland.\\n\\nAt any point you may request more information about either character regarding their stats, location, or previous conversation. While I cannot supply you with everything that has happened in the campaign so far, I am saving each piece of conversation between the 3 of you. If you ask me about a previous event, topic, etc. I will search my database and feed it to you. You may request more information by responding \"REQUEST: <request>\".\\n\\nWhen you see user messages, they will begin with either the characters name, \"DM\" which refers to you, or \"Code\" which refers to me, the code which is instructing and guiding you.\\n\\nJust remember, you are not playing as either character. There is either another AI playing as them, or a human player so do not respond as either character, just as the DM. You may also never assume information to describe what is happening. Please request information in this case.'},\n",
       " {'role': 'user',\n",
       "  'name': 'CODE',\n",
       "  'content': 'Please introduce the campaign and begin it'},\n",
       " {'role': 'assistant',\n",
       "  'content': \"DM: Welcome, adventurers, to the world of Dungeons and Dragons! Today, we begin our journey into the Lost Mine of Phandelver, a legendary quest that promises both riches and danger. You find yourselves in the bustling city of Neverwinter, where rumors of an ancient mine filled with powerful magical artifacts have caught your attention. As fate would have it, you both have received a letter from a dwarf named Gundren Rockseeker, a friend who has stumbled upon the location of this lost mine.\\n\\nGundren has asked you to meet him in the small town of Phandalin, a few days' journey southeast of Neverwinter. The letter mentions that he and his companion, a human wizard named Sildar Hallwinter, will be arriving in Phandalin ahead of you. The promise of a hefty reward for your assistance in securing the mine's riches and uncovering its secrets is enough to pique your interest.\\n\\nNow, our adventure begins. Elara and Theron, please describe where you are in Neverwinter and how you come to meet each other.\\n\\nElara, please start.\"},\n",
       " {'role': 'user',\n",
       "  'name': 'Elara',\n",
       "  'content': \"I'm at the tavern drinking a beer\"},\n",
       " {'role': 'assistant',\n",
       "  'content': \"DM: Elara, as you sit at the bustling tavern in Neverwinter, enjoying your beer, you notice a sturdy dwarf enter the establishment. Theron, please describe how you enter the tavern and what catches your attention.\\n\\nTheron, it's your turn.\"},\n",
       " {'role': 'user',\n",
       "  'name': 'Theron',\n",
       "  'content': 'I enter abruptly, slamming open the doors as I am a bit late and immediately tossing a coin to the bartender'},\n",
       " {'role': 'user',\n",
       "  'name': 'Elara',\n",
       "  'content': 'What kind of armor does he have on?'},\n",
       " <OpenAIObject at 0x11fcbe150> JSON: {\n",
       "   \"content\": null,\n",
       "   \"function_call\": {\n",
       "     \"arguments\": \"{\\n  \\\"player\\\": \\\"Theron Ironfist\\\"\\n}\",\n",
       "     \"name\": \"get_current_inventory\"\n",
       "   },\n",
       "   \"role\": \"assistant\"\n",
       " },\n",
       " {'role': 'user',\n",
       "  'name': 'CODE',\n",
       "  'content': 'Theron Ironfist currently has a warhammer and shield equipped. He is not wearing armor and has a pack with miscellaneous items.'}]"
      ]
     },
     "execution_count": 7,
     "metadata": {},
     "output_type": "execute_result"
    }
   ],
   "source": [
    "MESSAGES.append({\"role\": \"user\", \"name\": \"CODE\", \"content\": \"Theron Ironfist currently has a warhammer and shield equipped. He is not wearing armor and has a pack with miscellaneous items.\"})\n",
    "MESSAGES"
   ]
  },
  {
   "cell_type": "markdown",
   "metadata": {},
   "source": [
    "Seems like the model might do best when calling functions and given less context which would force it to get accurate and specific information. I'm thinking there will have to be a balance between the # of functions it can call, and context its given. \n",
    "\n",
    "### Problems to solve\n",
    "- Getting the model to not assume, but rather call functions to get information\n",
    "- How do I get DM and NPC to automatically communicate? How do I ensure it waits for player input when asked?\n",
    "\n",
    "Can I maybe write a class that handles messages and available functions to call then try it out somehow?\n",
    "\n",
    "Maybe I can have a separate high level model responsible for judging the context and deciding who to call? Could be a function only model!\n",
    "\n",
    "\n",
    "### Small problems but not important now\n",
    "- Reducing necessary information given to model while still getting accurate results so I can reduce token count"
   ]
  },
  {
   "cell_type": "code",
   "execution_count": 58,
   "metadata": {},
   "outputs": [
    {
     "data": {
      "text/plain": [
       "0.7244400000000001"
      ]
     },
     "execution_count": 58,
     "metadata": {},
     "output_type": "execute_result"
    }
   ],
   "source": [
    "def cost_of_playtime(number_of_historical_inputs=14, number_of_npcs=2, dm_ai=1, conversation_controller_tokens=150, messages_per_minute=2, average_bot_output=100):\n",
    "    # Bot conversation cost\n",
    "    ai_output_cost_per_token = 0.002 / 1000\n",
    "    ai_input_cost_per_token = 0.0015 / 1000\n",
    "    bot_cost_per_message = ((ai_output_cost_per_token * average_bot_output) + (ai_input_cost_per_token * number_of_historical_inputs * average_bot_output))\n",
    "\n",
    "    # Reduce bot_cost_per_message by 27%\n",
    "    bot_cost_per_message *= 0.73\n",
    "\n",
    "    bot_cost_total = bot_cost_per_message * (number_of_npcs + dm_ai)\n",
    "\n",
    "    # Conversation controller cost\n",
    "    cc_cost_per_message = (ai_input_cost_per_token * conversation_controller_tokens)\n",
    "    cc_cost_total = cc_cost_per_message * (number_of_npcs + dm_ai + 1)\n",
    "\n",
    "    # Adjust for additional function calls\n",
    "    cc_cost_total += 0.0001\n",
    "\n",
    "    # Total cost per human message\n",
    "    cost_per_human_message = bot_cost_total + cc_cost_total\n",
    "\n",
    "    # Cost per hour of playtime\n",
    "    cost_per_hour = cost_per_human_message * messages_per_minute * 60\n",
    "\n",
    "    return cost_per_hour\n",
    "\n",
    "\n",
    "cost_of_playtime()"
   ]
  },
  {
   "cell_type": "code",
   "execution_count": 1,
   "metadata": {},
   "outputs": [
    {
     "name": "stdout",
     "output_type": "stream",
     "text": [
      "Summarize on 3 messages\n",
      "Tokens spent on normal message generation: 140900\n",
      "Tokens spent on summarization message generation: 116600\n",
      "Percentage savings from summarization: 17.246273953158266\n",
      "--------------------\n",
      "Summarize on 4 messages\n",
      "Tokens spent on normal message generation: 140900\n",
      "Tokens spent on summarization message generation: 116600\n",
      "Percentage savings from summarization: 17.246273953158266\n",
      "--------------------\n",
      "Summarize on 5 messages\n",
      "Tokens spent on normal message generation: 140900\n",
      "Tokens spent on summarization message generation: 116600\n",
      "Percentage savings from summarization: 17.246273953158266\n",
      "--------------------\n",
      "Summarize on 6 messages\n",
      "Tokens spent on normal message generation: 140900\n",
      "Tokens spent on summarization message generation: 102000\n",
      "Percentage savings from summarization: 27.608232789212206\n",
      "--------------------\n",
      "Summarize on 7 messages\n",
      "Tokens spent on normal message generation: 140900\n",
      "Tokens spent on summarization message generation: 100200\n",
      "Percentage savings from summarization: 28.885734563520227\n",
      "--------------------\n",
      "Summarize on 8 messages\n",
      "Tokens spent on normal message generation: 140900\n",
      "Tokens spent on summarization message generation: 101600\n",
      "Percentage savings from summarization: 27.892122072391768\n",
      "--------------------\n",
      "Summarize on 9 messages\n",
      "Tokens spent on normal message generation: 140900\n",
      "Tokens spent on summarization message generation: 104000\n",
      "Percentage savings from summarization: 26.18878637331441\n",
      "--------------------\n",
      "Summarize on 10 messages\n",
      "Tokens spent on normal message generation: 140900\n",
      "Tokens spent on summarization message generation: 107600\n",
      "Percentage savings from summarization: 23.63378282469837\n",
      "--------------------\n",
      "Summarize on 11 messages\n",
      "Tokens spent on normal message generation: 140900\n",
      "Tokens spent on summarization message generation: 110500\n",
      "Percentage savings from summarization: 21.57558552164656\n",
      "--------------------\n",
      "Summarize on 12 messages\n",
      "Tokens spent on normal message generation: 140900\n",
      "Tokens spent on summarization message generation: 115200\n",
      "Percentage savings from summarization: 18.23988644428673\n",
      "--------------------\n",
      "Summarize on 13 messages\n",
      "Tokens spent on normal message generation: 140900\n",
      "Tokens spent on summarization message generation: 118100\n",
      "Percentage savings from summarization: 16.181689141234916\n",
      "--------------------\n",
      "Summarize on 14 messages\n",
      "Tokens spent on normal message generation: 140900\n",
      "Tokens spent on summarization message generation: 122000\n",
      "Percentage savings from summarization: 13.413768630234207\n",
      "--------------------\n"
     ]
    },
    {
     "data": {
      "image/png": "[encoded data removed]",
      "text/plain": [
       "<Figure size 640x480 with 1 Axes>"
      ]
     },
     "metadata": {},
     "output_type": "display_data"
    }
   ],
   "source": [
    "def simulate_message_generation_cost(summarize_on_n_messages, run_simulations):\n",
    "    num_max_input_messages = 14\n",
    "    average_message_length = 100\n",
    "    min_messages_to_keep = 4\n",
    "    desired_summarization_length = 200\n",
    "\n",
    "    normal_tokens_spent = 0\n",
    "    normal_current_num_messages = 0\n",
    "\n",
    "    sum_tokens_spent = 0\n",
    "    sum_current_num_messages = 0\n",
    "    current_summarization_total = 0\n",
    "\n",
    "    for i in range(run_simulations):\n",
    "        normal_current_num_messages += 1\n",
    "        sum_current_num_messages += 1\n",
    "\n",
    "        # Checks if we should summarize and does that, adding summarization cost to tokens spent\n",
    "        if sum_current_num_messages >= summarize_on_n_messages or sum_current_num_messages >= num_max_input_messages:\n",
    "            num_to_summarize = sum_current_num_messages - min_messages_to_keep\n",
    "            if num_to_summarize > 0:\n",
    "                current_summarization_total = desired_summarization_length\n",
    "                cost_of_summarization = (num_to_summarize * average_message_length) + current_summarization_total + desired_summarization_length\n",
    "                sum_current_num_messages = min_messages_to_keep\n",
    "                sum_tokens_spent += cost_of_summarization\n",
    "                # print(f\"Summarizing now, cost: {cost_of_summarization}. Num messages: {sum_current_num_messages}\")\n",
    "\n",
    "        # Add cost of message generation for the sum simulator\n",
    "        sum_tokens_spent += (sum_current_num_messages * average_message_length) + current_summarization_total + average_message_length # Last is for the output size\n",
    "\n",
    "        # Check if the number of normal messages is greater than or equal to the max number of messages and if so, set the normal_current_num_messages to it\n",
    "        if normal_current_num_messages >= num_max_input_messages:\n",
    "            normal_current_num_messages = num_max_input_messages\n",
    "\n",
    "        # Add cost of message generation for the normal simulator\n",
    "        normal_tokens_spent += (normal_current_num_messages * average_message_length) + average_message_length\n",
    "\n",
    "    return normal_tokens_spent, sum_tokens_spent, (normal_tokens_spent - sum_tokens_spent) / normal_tokens_spent * 100\n",
    "\n",
    "stats = {}\n",
    "for i in range(3, 15):\n",
    "    normal_tokens_spent, sum_tokens_spent, savings = simulate_message_generation_cost(summarize_on_n_messages=i, run_simulations=100)\n",
    "    stats[i] = savings\n",
    "\n",
    "    print(\"Summarize on {} messages\".format(i))\n",
    "    print(\"Tokens spent on normal message generation: {}\".format(normal_tokens_spent))\n",
    "    print(\"Tokens spent on summarization message generation: {}\".format(sum_tokens_spent))\n",
    "    print(\"Percentage savings from summarization: {}\".format(savings))\n",
    "    print(\"--------------------\")\n",
    "\n",
    "# Plot out the stats dictionary as a graph where the keys are the x axis and the values are the y axis\n",
    "import matplotlib.pyplot as plt\n",
    "plt.plot(list(stats.keys()), list(stats.values()))\n",
    "plt.xlabel(\"Number of messages before summarization\")\n",
    "plt.ylabel(\"Percentage savings from summarization\")\n",
    "plt.show()\n"
   ]
  }
 ],
 "metadata": {
  "kernelspec": {
   "display_name": "Python 3",
   "language": "python",
   "name": "python3"
  },
  "language_info": {
   "codemirror_mode": {
    "name": "ipython",
    "version": 3
   },
   "file_extension": ".py",
   "mimetype": "text/x-python",
   "name": "python",
   "nbconvert_exporter": "python",
   "pygments_lexer": "ipython3",
   "version": "3.11.2"
  },
  "orig_nbformat": 4
 },
 "nbformat": 4,
 "nbformat_minor": 2
}
